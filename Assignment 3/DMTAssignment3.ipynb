{
  "nbformat": 4,
  "nbformat_minor": 0,
  "metadata": {
    "colab": {
      "name": "DMTAssignment3.ipynb",
      "provenance": []
    },
    "kernelspec": {
      "name": "python3",
      "display_name": "Python 3"
    },
    "language_info": {
      "name": "python"
    }
  },
  "cells": [
    {
      "cell_type": "code",
      "source": [
        "#Q 1\n",
        "\n",
        "#q1\n",
        "import matplotlib.pyplot as plt\n",
        "from sklearn import datasets\n",
        "from sklearn.decomposition import PCA\n",
        "i = datasets.load_iris()"
      ],
      "metadata": {
        "id": "VdtsJrlp9s-j"
      },
      "execution_count": null,
      "outputs": []
    },
    {
      "cell_type": "code",
      "source": [
        "X = i.data\n",
        "y = i.target\n",
        "targetname = i.target_names"
      ],
      "metadata": {
        "id": "hTiVUuBPCJmm"
      },
      "execution_count": null,
      "outputs": []
    },
    {
      "cell_type": "code",
      "source": [
        "pca = PCA(n_components=2)\n",
        "Xnew = pca.fit(X).transform(X)"
      ],
      "metadata": {
        "id": "_c5bBgDE9tBn"
      },
      "execution_count": null,
      "outputs": []
    },
    {
      "cell_type": "code",
      "source": [
        "pca.get_covariance"
      ],
      "metadata": {
        "colab": {
          "base_uri": "https://localhost:8080/"
        },
        "id": "9S5oYs-19tEe",
        "outputId": "d43c2701-f665-4a99-87ee-e7dc3670075b"
      },
      "execution_count": null,
      "outputs": [
        {
          "output_type": "execute_result",
          "data": {
            "text/plain": [
              "<bound method _BasePCA.get_covariance of PCA(n_components=2)>"
            ]
          },
          "metadata": {},
          "execution_count": 4
        }
      ]
    },
    {
      "cell_type": "code",
      "source": [
        "#q2\n",
        "pca.explained_variance_ratio_"
      ],
      "metadata": {
        "colab": {
          "base_uri": "https://localhost:8080/"
        },
        "id": "kTXn6xJ5DVxa",
        "outputId": "df9ea499-3a91-4119-b7c5-2d3b97cc8451"
      },
      "execution_count": null,
      "outputs": [
        {
          "output_type": "execute_result",
          "data": {
            "text/plain": [
              "array([0.92461872, 0.05306648])"
            ]
          },
          "metadata": {},
          "execution_count": 5
        }
      ]
    },
    {
      "cell_type": "code",
      "source": [
        "plt.figure()\n",
        "colors = [\"red\", \"darkorange\", \"blue\"]\n",
        "lw = 1\n",
        "\n",
        "for color, i, target_name in zip(colors, [0, 1, 2], targetname):\n",
        "    plt.scatter(X[y == i, 0], X[y == i, 1], color=color, alpha=0.8, lw=lw, label=target_name)\n",
        "plt.legend()"
      ],
      "metadata": {
        "colab": {
          "base_uri": "https://localhost:8080/",
          "height": 286
        },
        "id": "DzdnnM2MHY7X",
        "outputId": "1d0307a7-0598-41b3-a8a8-45c15c65e89a"
      },
      "execution_count": null,
      "outputs": [
        {
          "output_type": "execute_result",
          "data": {
            "text/plain": [
              "<matplotlib.legend.Legend at 0x7fb228357c90>"
            ]
          },
          "metadata": {},
          "execution_count": 19
        },
        {
          "output_type": "display_data",
          "data": {
            "image/png": "[encoded data removed]",
            "text/plain": [
              "<Figure size 432x288 with 1 Axes>"
            ]
          },
          "metadata": {
            "needs_background": "light"
          }
        }
      ]
    },
    {
      "cell_type": "code",
      "source": [
        "#Q2\n",
        "\n",
        "#q1 \n",
        "from sklearn.discriminant_analysis import LinearDiscriminantAnalysis\n",
        "i2 = datasets.load_iris()"
      ],
      "metadata": {
        "id": "IBFylZBhGMe7"
      },
      "execution_count": null,
      "outputs": []
    },
    {
      "cell_type": "code",
      "source": [
        "X1 = i2.data \n",
        "y1 = i2.target\n",
        "target_name2 = i2.target_names"
      ],
      "metadata": {
        "id": "0CBZgkDMGMhQ"
      },
      "execution_count": null,
      "outputs": []
    },
    {
      "cell_type": "code",
      "source": [
        "lda = LinearDiscriminantAnalysis(n_components=2)\n",
        "X_lda = lda.fit(X1, y1).transform(X1)"
      ],
      "metadata": {
        "id": "UzgwpLBQGMkI"
      },
      "execution_count": null,
      "outputs": []
    },
    {
      "cell_type": "code",
      "source": [
        "#q2\n",
        "colours = [\"red\", \"darkorange\", \"blue\"]\n",
        "plt.figure()\n",
        "lw=1\n",
        "for color, i, target_name in zip(colours, [0, 1, 2], target_name2):\n",
        "    plt.scatter(X_lda[y == i, 0], X_lda[y == i, 1], alpha=0.8, color=color, label=target_name)\n",
        "plt.legend()"
      ],
      "metadata": {
        "id": "vLLKPZfsGMmd",
        "colab": {
          "base_uri": "https://localhost:8080/",
          "height": 287
        },
        "outputId": "1ba9880e-87c5-47cc-ad28-5a08731b7301"
      },
      "execution_count": null,
      "outputs": [
        {
          "output_type": "execute_result",
          "data": {
            "text/plain": [
              "<matplotlib.legend.Legend at 0x7fb22826cc90>"
            ]
          },
          "metadata": {},
          "execution_count": 21
        },
        {
          "output_type": "display_data",
          "data": {
            "image/png": "[encoded data removed]",
            "text/plain": [
              "<Figure size 432x288 with 1 Axes>"
            ]
          },
          "metadata": {
            "needs_background": "light"
          }
        }
      ]
    },
    {
      "cell_type": "code",
      "source": [
        "#q3 \n",
        "lda.explained_variance_ratio_"
      ],
      "metadata": {
        "id": "fDyJ4NHcGMpJ",
        "colab": {
          "base_uri": "https://localhost:8080/"
        },
        "outputId": "6c663122-7fee-429d-b09b-48c5d61ece59"
      },
      "execution_count": null,
      "outputs": [
        {
          "output_type": "execute_result",
          "data": {
            "text/plain": [
              "array([0.9912126, 0.0087874])"
            ]
          },
          "metadata": {},
          "execution_count": 12
        }
      ]
    },
    {
      "cell_type": "code",
      "source": [
        "#Q3 \n",
        "\n",
        "#q1 \n",
        "#The explained variance ratio of PCA is 0.92461872, 0.05306648 of the two features we explain, \n",
        "#while the explained variance ratio of LDA is 0.9912126, 0.0087874. This shows that LDA explains the \n",
        "#feature more than it is done in PCA. Hence LDA is better in this case. "
      ],
      "metadata": {
        "id": "MNgKLs_sG9J-"
      },
      "execution_count": null,
      "outputs": []
    },
    {
      "cell_type": "code",
      "source": [
        "#q2\n",
        "#LDA seems to be performing better at seperarting the different classes of the data, and is a supervised method. \n",
        "#This is because we don't see so much overlap of the classes and hence we are able to distinguish one class from \n",
        "#another. Whereas in PCA, there is lot of overlap of the classes which makes it difficult for us to \n",
        "#differentiate the classes."
      ],
      "metadata": {
        "id": "YiEXD_GHHmqz"
      },
      "execution_count": null,
      "outputs": []
    },
    {
      "cell_type": "code",
      "source": [
        "#q3\n",
        "#PCA will find the combination of the attributes of the data which are responsible for the most variance. \n",
        "#LDA will find attributes that are responsible for the most variance between classes. \n",
        "#LDA seems to be performing better in this case since it is using the classes. "
      ],
      "metadata": {
        "id": "V2e1TO2QHnl5"
      },
      "execution_count": null,
      "outputs": []
    }
  ]
}