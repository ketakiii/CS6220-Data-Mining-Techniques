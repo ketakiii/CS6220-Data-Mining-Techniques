{
  "nbformat": 4,
  "nbformat_minor": 0,
  "metadata": {
    "colab": {
      "name": "DMTAssignment9.ipynb",
      "provenance": []
    },
    "kernelspec": {
      "name": "python3",
      "display_name": "Python 3"
    },
    "language_info": {
      "name": "python"
    }
  },
  "cells": [
    {
      "cell_type": "code",
      "execution_count": null,
      "metadata": {
        "colab": {
          "base_uri": "https://localhost:8080/"
        },
        "id": "y9eWxpE8v66l",
        "outputId": "a983e014-e362-42ff-81f6-841bbe100b8a"
      },
      "outputs": [
        {
          "output_type": "execute_result",
          "data": {
            "text/plain": [
              "['malignant', 'benign']"
            ]
          },
          "metadata": {},
          "execution_count": 1
        }
      ],
      "source": [
        "#importing breast cancer dataset : X and y\n",
        "\n",
        "import sklearn\n",
        "from sklearn.datasets import load_breast_cancer\n",
        "data = load_breast_cancer()\n",
        "X = data.data\n",
        "y = data.target\n",
        "list(data.target_names)"
      ]
    },
    {
      "cell_type": "code",
      "source": [
        "#Splitting data into X train, X test, y train, y test\n",
        "\n",
        "from sklearn.model_selection import train_test_split\n",
        "X_train, X_test, y_train, y_test = train_test_split(X, y, test_size=0.2)"
      ],
      "metadata": {
        "id": "Xtkc2ssaemCi"
      },
      "execution_count": null,
      "outputs": []
    },
    {
      "cell_type": "code",
      "source": [
        "#Decision Tree Classifier \n",
        "\n",
        "from sklearn.tree import DecisionTreeClassifier\n",
        "decision_tree = DecisionTreeClassifier(random_state=0)\n",
        "decision_tree = decision_tree.fit(X_train, y_train)"
      ],
      "metadata": {
        "id": "E_Pm_dWIemFW"
      },
      "execution_count": null,
      "outputs": []
    },
    {
      "cell_type": "code",
      "source": [
        "#predicting value for X_test\n",
        "\n",
        "y_pred = decision_tree.predict(X_test)"
      ],
      "metadata": {
        "id": "1MGJfMBEjw3d"
      },
      "execution_count": null,
      "outputs": []
    },
    {
      "cell_type": "code",
      "source": [
        "#Accuracy Score\n",
        "\n",
        "from sklearn.metrics import accuracy_score\n",
        "accuracy_score(y_test, y_pred)"
      ],
      "metadata": {
        "colab": {
          "base_uri": "https://localhost:8080/"
        },
        "id": "MfsTdUUikpzb",
        "outputId": "096a05ee-ec88-4581-e28e-f13625b8ad93"
      },
      "execution_count": null,
      "outputs": [
        {
          "output_type": "execute_result",
          "data": {
            "text/plain": [
              "0.9298245614035088"
            ]
          },
          "metadata": {},
          "execution_count": 5
        }
      ]
    },
    {
      "cell_type": "code",
      "source": [
        "#Precision Score \n",
        "\n",
        "from sklearn.metrics import precision_score\n",
        "precision_score(y_test, y_pred)"
      ],
      "metadata": {
        "colab": {
          "base_uri": "https://localhost:8080/"
        },
        "id": "rRH6qs_xioG1",
        "outputId": "80ba8f23-2c3b-45d6-da75-68e24b45f62e"
      },
      "execution_count": null,
      "outputs": [
        {
          "output_type": "execute_result",
          "data": {
            "text/plain": [
              "0.9452054794520548"
            ]
          },
          "metadata": {},
          "execution_count": 9
        }
      ]
    },
    {
      "cell_type": "code",
      "source": [
        "#Recall Score\n",
        "\n",
        "from sklearn.metrics import recall_score\n",
        "recall_score(y_test, y_pred)"
      ],
      "metadata": {
        "colab": {
          "base_uri": "https://localhost:8080/"
        },
        "id": "yqPNh9F4kemn",
        "outputId": "c458667e-edb8-4702-ca57-26fc2525ede4"
      },
      "execution_count": null,
      "outputs": [
        {
          "output_type": "execute_result",
          "data": {
            "text/plain": [
              "0.9452054794520548"
            ]
          },
          "metadata": {},
          "execution_count": 10
        }
      ]
    },
    {
      "cell_type": "code",
      "source": [
        "#Classification Report \n",
        "\n",
        "from sklearn.metrics import classification_report\n",
        "print(classification_report(y_test, y_pred, target_names=data.target_names))"
      ],
      "metadata": {
        "colab": {
          "base_uri": "https://localhost:8080/"
        },
        "id": "7sPY3l6akepq",
        "outputId": "fa2a179b-f46d-4b6f-a5e7-507114432ca5"
      },
      "execution_count": null,
      "outputs": [
        {
          "output_type": "stream",
          "name": "stdout",
          "text": [
            "              precision    recall  f1-score   support\n",
            "\n",
            "   malignant       0.90      0.90      0.90        41\n",
            "      benign       0.95      0.95      0.95        73\n",
            "\n",
            "    accuracy                           0.93       114\n",
            "   macro avg       0.92      0.92      0.92       114\n",
            "weighted avg       0.93      0.93      0.93       114\n",
            "\n"
          ]
        }
      ]
    },
    {
      "cell_type": "code",
      "source": [
        "#Confusion Matrix \n",
        "\n",
        "from sklearn.metrics import confusion_matrix\n",
        "confusion_matrix(y_test, y_pred)"
      ],
      "metadata": {
        "colab": {
          "base_uri": "https://localhost:8080/"
        },
        "id": "v0Kzw6enkeu-",
        "outputId": "275cbc44-d5f4-406c-a308-d8faf7d2e450"
      },
      "execution_count": null,
      "outputs": [
        {
          "output_type": "execute_result",
          "data": {
            "text/plain": [
              "array([[37,  4],\n",
              "       [ 4, 69]])"
            ]
          },
          "metadata": {},
          "execution_count": 12
        }
      ]
    },
    {
      "cell_type": "code",
      "source": [
        "#ROC Curve\n",
        "\n",
        "from sklearn import metrics\n",
        "import matplotlib.pyplot as plt \n",
        "metrics.plot_roc_curve(decision_tree, X_test, y_test) \n",
        "plt.show()"
      ],
      "metadata": {
        "colab": {
          "base_uri": "https://localhost:8080/",
          "height": 334
        },
        "id": "F4zewktlmAin",
        "outputId": "6b556279-fe27-416d-b0d0-0c28808aa2d7"
      },
      "execution_count": null,
      "outputs": [
        {
          "output_type": "stream",
          "name": "stderr",
          "text": [
            "/usr/local/lib/python3.7/dist-packages/sklearn/utils/deprecation.py:87: FutureWarning: Function plot_roc_curve is deprecated; Function :func:`plot_roc_curve` is deprecated in 1.0 and will be removed in 1.2. Use one of the class methods: :meth:`sklearn.metric.RocCurveDisplay.from_predictions` or :meth:`sklearn.metric.RocCurveDisplay.from_estimator`.\n",
            "  warnings.warn(msg, category=FutureWarning)\n"
          ]
        },
        {
          "output_type": "display_data",
          "data": {
            "text/plain": [
              "<Figure size 432x288 with 1 Axes>"
            ],
            "image/png": "[encoded data removed]"
          },
          "metadata": {
            "needs_background": "light"
          }
        }
      ]
    },
    {
      "cell_type": "code",
      "source": [
        "#Precision Recall Curve\n",
        "\n",
        "from sklearn.metrics import precision_recall_curve\n",
        "precision, recall, threshold = precision_recall_curve(y_test, y_pred)\n",
        "\n",
        "fig, ax = plt.subplots()\n",
        "ax.plot(recall, precision)\n",
        "\n",
        "ax.set_title('Precision Recall Curve')\n",
        "ax.set_ylabel('Precision')\n",
        "ax.set_xlabel('Recall')\n",
        "\n",
        "plt.show()"
      ],
      "metadata": {
        "colab": {
          "base_uri": "https://localhost:8080/",
          "height": 295
        },
        "id": "xsMI5kEmnoVZ",
        "outputId": "5be59fd8-1299-4b3b-f123-94a911e85c94"
      },
      "execution_count": null,
      "outputs": [
        {
          "output_type": "display_data",
          "data": {
            "text/plain": [
              "<Figure size 432x288 with 1 Axes>"
            ],
            "image/png": "[encoded data removed]"
          },
          "metadata": {
            "needs_background": "light"
          }
        }
      ]
    },
    {
      "cell_type": "code",
      "source": [
        ""
      ],
      "metadata": {
        "id": "n49E6oV0pLtm"
      },
      "execution_count": null,
      "outputs": []
    },
    {
      "cell_type": "code",
      "source": [
        "#Decision Tree Classifier for max_depth = 1 \n",
        "\n",
        "decision_tree2 = DecisionTreeClassifier(random_state=0, max_depth=1)\n",
        "decision_tree2 = decision_tree2.fit(X_train, y_train)"
      ],
      "metadata": {
        "id": "ELHihEanemHs"
      },
      "execution_count": null,
      "outputs": []
    },
    {
      "cell_type": "code",
      "source": [
        "#predicting value for X_test\n",
        "\n",
        "y_pred1 = decision_tree2.predict(X_test)"
      ],
      "metadata": {
        "id": "gGSc0f3DemKD"
      },
      "execution_count": null,
      "outputs": []
    },
    {
      "cell_type": "code",
      "source": [
        "#Accuracy Score\n",
        "\n",
        "from sklearn.metrics import accuracy_score\n",
        "accuracy_score(y_test, y_pred1)"
      ],
      "metadata": {
        "colab": {
          "base_uri": "https://localhost:8080/"
        },
        "id": "UkR8ZoTtpUx9",
        "outputId": "3b32cda7-e3ef-4c66-e763-e728284d366a"
      },
      "execution_count": null,
      "outputs": [
        {
          "output_type": "execute_result",
          "data": {
            "text/plain": [
              "0.9035087719298246"
            ]
          },
          "metadata": {},
          "execution_count": 17
        }
      ]
    },
    {
      "cell_type": "code",
      "source": [
        "#Precision Score \n",
        "\n",
        "from sklearn.metrics import precision_score\n",
        "precision_score(y_test, y_pred1)"
      ],
      "metadata": {
        "colab": {
          "base_uri": "https://localhost:8080/"
        },
        "id": "hozMfVOfpU0y",
        "outputId": "17bfcc8d-dbc3-4988-d35d-79d20a591f31"
      },
      "execution_count": null,
      "outputs": [
        {
          "output_type": "execute_result",
          "data": {
            "text/plain": [
              "0.8875"
            ]
          },
          "metadata": {},
          "execution_count": 18
        }
      ]
    },
    {
      "cell_type": "code",
      "source": [
        "#Recall Score\n",
        "\n",
        "from sklearn.metrics import recall_score\n",
        "recall_score(y_test, y_pred1)"
      ],
      "metadata": {
        "colab": {
          "base_uri": "https://localhost:8080/"
        },
        "id": "cMMOgptMpU3J",
        "outputId": "9f28cb2f-db2d-4ae3-b91f-604862609959"
      },
      "execution_count": null,
      "outputs": [
        {
          "output_type": "execute_result",
          "data": {
            "text/plain": [
              "0.9726027397260274"
            ]
          },
          "metadata": {},
          "execution_count": 19
        }
      ]
    },
    {
      "cell_type": "code",
      "source": [
        "#Classification Report \n",
        "\n",
        "from sklearn.metrics import classification_report\n",
        "print(classification_report(y_test, y_pred1, target_names=data.target_names))"
      ],
      "metadata": {
        "colab": {
          "base_uri": "https://localhost:8080/"
        },
        "id": "sAPZwl7rpU5i",
        "outputId": "d6d017cd-97fb-42c9-e426-0c711181a5cd"
      },
      "execution_count": null,
      "outputs": [
        {
          "output_type": "stream",
          "name": "stdout",
          "text": [
            "              precision    recall  f1-score   support\n",
            "\n",
            "   malignant       0.94      0.78      0.85        41\n",
            "      benign       0.89      0.97      0.93        73\n",
            "\n",
            "    accuracy                           0.90       114\n",
            "   macro avg       0.91      0.88      0.89       114\n",
            "weighted avg       0.91      0.90      0.90       114\n",
            "\n"
          ]
        }
      ]
    },
    {
      "cell_type": "code",
      "source": [
        "#Confusion Matrix \n",
        "\n",
        "from sklearn.metrics import confusion_matrix\n",
        "confusion_matrix(y_test, y_pred1)"
      ],
      "metadata": {
        "colab": {
          "base_uri": "https://localhost:8080/"
        },
        "id": "NuVjE85UpeW8",
        "outputId": "86c5e848-f400-4ea1-ef7d-96fc9ab1b7e7"
      },
      "execution_count": null,
      "outputs": [
        {
          "output_type": "execute_result",
          "data": {
            "text/plain": [
              "array([[32,  9],\n",
              "       [ 2, 71]])"
            ]
          },
          "metadata": {},
          "execution_count": 21
        }
      ]
    },
    {
      "cell_type": "code",
      "source": [
        "#ROC Curve\n",
        "\n",
        "from sklearn import metrics\n",
        "import matplotlib.pyplot as plt \n",
        "metrics.plot_roc_curve(decision_tree, X_test, y_test) \n",
        "plt.show()"
      ],
      "metadata": {
        "colab": {
          "base_uri": "https://localhost:8080/",
          "height": 334
        },
        "id": "lJHzEwpipem2",
        "outputId": "5089cf05-1625-4d96-fc86-3fa53126612f"
      },
      "execution_count": null,
      "outputs": [
        {
          "output_type": "stream",
          "name": "stderr",
          "text": [
            "/usr/local/lib/python3.7/dist-packages/sklearn/utils/deprecation.py:87: FutureWarning: Function plot_roc_curve is deprecated; Function :func:`plot_roc_curve` is deprecated in 1.0 and will be removed in 1.2. Use one of the class methods: :meth:`sklearn.metric.RocCurveDisplay.from_predictions` or :meth:`sklearn.metric.RocCurveDisplay.from_estimator`.\n",
            "  warnings.warn(msg, category=FutureWarning)\n"
          ]
        },
        {
          "output_type": "display_data",
          "data": {
            "text/plain": [
              "<Figure size 432x288 with 1 Axes>"
            ],
            "image/png": "[encoded data removed]"
          },
          "metadata": {
            "needs_background": "light"
          }
        }
      ]
    },
    {
      "cell_type": "code",
      "source": [
        "#Precision Recall Curve\n",
        "\n",
        "from sklearn.metrics import precision_recall_curve\n",
        "precision, recall, threshold = precision_recall_curve(y_test, y_pred1)\n",
        "fig, ax = plt.subplots()\n",
        "ax.plot(recall, precision)\n",
        "ax.set_title('Precision Recall Curve')\n",
        "ax.set_ylabel('Precision')\n",
        "ax.set_xlabel('Recall')\n",
        "plt.show()"
      ],
      "metadata": {
        "colab": {
          "base_uri": "https://localhost:8080/",
          "height": 295
        },
        "id": "2eyX47Nepk4X",
        "outputId": "e9421e40-a0aa-427d-c99a-602b008e4319"
      },
      "execution_count": null,
      "outputs": [
        {
          "output_type": "display_data",
          "data": {
            "text/plain": [
              "<Figure size 432x288 with 1 Axes>"
            ],
            "image/png": "[encoded data removed]"
          },
          "metadata": {
            "needs_background": "light"
          }
        }
      ]
    },
    {
      "cell_type": "code",
      "source": [
        ""
      ],
      "metadata": {
        "id": "iEnezjGctidX"
      },
      "execution_count": null,
      "outputs": []
    },
    {
      "cell_type": "code",
      "source": [
        "#Accuracy comparison \n",
        "\n",
        "#We get a higher accuracy of 92.98% when we train the data on the entire tree, while when we train the data on a max_depth of 1\n",
        "#we get a lower accuracy of 90.35%."
      ],
      "metadata": {
        "id": "EbqARwxTtijm"
      },
      "execution_count": null,
      "outputs": []
    },
    {
      "cell_type": "code",
      "source": [
        "#Precision comparison\n",
        "\n",
        "#We get a higher precision of 94.52% when we train the data on the entire tree, while when we train the data on a max_depth of 1\n",
        "#we get a lower precision of 88.75%."
      ],
      "metadata": {
        "id": "W7Cbo-4UuSym"
      },
      "execution_count": null,
      "outputs": []
    },
    {
      "cell_type": "code",
      "source": [
        "#Recall comparison \n",
        "\n",
        "#We get a lower recall of 94.52% when we train the data on the entire tree, while when we train the data on a max_depth of 1\n",
        "#we get a higher recall of 97.26%."
      ],
      "metadata": {
        "id": "6rk03kZtupDx"
      },
      "execution_count": null,
      "outputs": []
    },
    {
      "cell_type": "code",
      "source": [
        "#Classification report comparison \n",
        "\n",
        "#The Classification report is just the summarization of precision, recall, accuracy and the F1 scores of the respective\n",
        "#decision trees. We have already differentatiated the precision, recall and accuracy of the two classifiers. \n",
        "\n",
        "#The F1 score seems to differ in both results with 90% for malignant in the tree with the entire depth while, 85% for the \n",
        "#one with the max_depth of 1. Hence, we see that the F1 score is more for the classifier using the entire depth of the tree while \n",
        "#lower for the one using the max_depth as 1. "
      ],
      "metadata": {
        "id": "8ASrtM9JvgeB"
      },
      "execution_count": null,
      "outputs": []
    },
    {
      "cell_type": "code",
      "source": [
        "#Confusion matrix \n",
        "\n",
        "#Since confusion matrix is just the summarization of true positives and false positives, we have already compared those \n",
        "#using precision and recall. "
      ],
      "metadata": {
        "id": "t_hldMT9wjkM"
      },
      "execution_count": null,
      "outputs": []
    },
    {
      "cell_type": "code",
      "source": [
        "#The ROC curve graph\n",
        "\n",
        "#The ROC curve seems to be kind of similar to both the cases with the knee point at around 0.1 for both."
      ],
      "metadata": {
        "id": "3683ETZdw2o8"
      },
      "execution_count": null,
      "outputs": []
    },
    {
      "cell_type": "code",
      "source": [
        "#The Precision Recall Curve \n",
        "\n",
        "#The Precision Recall Curve seems to be kind of similar to both the cases with the knee point near 1.0 for both."
      ],
      "metadata": {
        "id": "eM04_nLmvFt2"
      },
      "execution_count": null,
      "outputs": []
    },
    {
      "cell_type": "code",
      "source": [
        ""
      ],
      "metadata": {
        "id": "sY8-ifMk0KLP"
      },
      "execution_count": null,
      "outputs": []
    },
    {
      "cell_type": "code",
      "source": [
        "#Conclusion \n",
        "\n",
        "#From the above comparison we can see that both of the models have their advantages and their disadvantages. For chosing a particular \n",
        "#configuration, it depends upon the perfomance metrics we want our emphasis on. "
      ],
      "metadata": {
        "id": "tZecB2xB0KOE"
      },
      "execution_count": null,
      "outputs": []
    }
  ]
}