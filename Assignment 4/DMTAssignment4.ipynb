{
  "nbformat": 4,
  "nbformat_minor": 0,
  "metadata": {
    "colab": {
      "name": "DMTAssignment4.ipynb",
      "provenance": []
    },
    "kernelspec": {
      "name": "python3",
      "display_name": "Python 3"
    },
    "language_info": {
      "name": "python"
    }
  },
  "cells": [
    {
      "cell_type": "code",
      "execution_count": 1,
      "metadata": {
        "id": "yU8mFq6TBIkz"
      },
      "outputs": [],
      "source": [
        "#Q1\n",
        "import csv\n",
        "import numpy as np\n",
        "\n",
        "def load_dataset(filename):\n",
        "\n",
        "    with open(filename,'r') as dest_f:\n",
        "        data_iter = csv.reader(dest_f, delimiter = ',', quotechar = '\"')\n",
        "        data = [data for data in data_iter]\n",
        "        data_array = np.asarray(data)\n",
        "        \n",
        "    return data_array\n",
        "\n",
        "def apriori(dataset, min_support=0.5, verbose=False):\n",
        "  \n",
        "    C1 = create_candidates(dataset)\n",
        "    D = list(map(set, dataset))\n",
        "    F1, support_data = support_prune(D, C1, min_support, verbose=False) # prune candidate 1-itemsets\n",
        "    F = [F1] # list of frequent itemsets; initialized to frequent 1-itemsets\n",
        "    k = 2 # the itemset cardinality\n",
        "    while (len(F[k - 2]) > 0):\n",
        "        Ck = apriori_gen(F[k-2], k) # generate candidate itemsets\n",
        "        Fk, supK = support_prune(D, Ck, min_support) # prune candidate itemsets\n",
        "        support_data.update(supK) # update the support counts to reflect pruning\n",
        "        F.append(Fk) # add the pruned candidate itemsets to the list of frequent itemsets\n",
        "        k += 1\n",
        "\n",
        "    if verbose:\n",
        "        # Print a list of all the frequent itemsets.\n",
        "        for kset in F:\n",
        "            for item in kset:\n",
        "                print(\"\" \\\n",
        "                    + \"{\" \\\n",
        "                    + \"\".join(str(i) + \", \" for i in iter(item)).rstrip(', ') \\\n",
        "                    + \"}\" \\\n",
        "                    + \":  sup = \" + str(round(support_data[item], 3)))\n",
        "\n",
        "    return F, support_data\n",
        "\n",
        "def create_candidates(dataset, verbose=False):\n",
        "\n",
        "    c1 = [] # list of all items in the database of transactions\n",
        "    for transaction in dataset:\n",
        "        for item in transaction:\n",
        "            if not [item] in c1:\n",
        "                c1.append([item])\n",
        "    c1.sort()\n",
        "\n",
        "    if verbose:\n",
        "        # Print a list of all the candidate items.\n",
        "        print(\"\" \\\n",
        "            + \"{\" \\\n",
        "            + \"\".join(str(i[0]) + \", \" for i in iter(c1)).rstrip(', ') \\\n",
        "            + \"}\")\n",
        "\n",
        "    # Map c1 to a frozenset because it will be the key of a dictionary.\n",
        "    return list(map(frozenset, c1))\n",
        "\n",
        "def support_prune(dataset, candidates, min_support, verbose=False):\n",
        "\n",
        "    sscnt = {} # set for support counts\n",
        "    for tid in dataset:\n",
        "        for can in candidates:\n",
        "            if can.issubset(tid):\n",
        "                sscnt.setdefault(can, 0)\n",
        "                sscnt[can] += 1\n",
        "\n",
        "    num_items = float(len(dataset)) # total number of transactions in the dataset\n",
        "    retlist = [] # array for unpruned itemsets\n",
        "    support_data = {} # set for support data for corresponding itemsets\n",
        "    for key in sscnt:\n",
        "        # Calculate the support of itemset key.\n",
        "        support = sscnt[key] / num_items\n",
        "        if support >= min_support:\n",
        "            retlist.insert(0, key)\n",
        "        support_data[key] = support\n",
        "\n",
        "    # Print a list of the pruned itemsets.\n",
        "    if verbose:\n",
        "        for kset in retlist:\n",
        "            for item in kset:\n",
        "                print(\"{\" + str(item) + \"}\")\n",
        "        print(\"\")\n",
        "        for key in sscnt:\n",
        "            print(\"\" \\\n",
        "                + \"{\" \\\n",
        "                + \"\".join([str(i) + \", \" for i in iter(key)]).rstrip(', ') \\\n",
        "                + \"}\" \\\n",
        "                + \":  sup = \" + str(support_data[key]))\n",
        "\n",
        "    return retlist, support_data\n",
        "\n",
        "def apriori_gen(freq_sets, k):\n",
        "\n",
        "    retList = [] # list of merged frequent itemsets\n",
        "    lenLk = len(freq_sets) # number of frequent itemsets\n",
        "    for i in range(lenLk):\n",
        "        for j in range(i+1, lenLk):\n",
        "            a=list(freq_sets[i])\n",
        "            b=list(freq_sets[j])\n",
        "            a.sort()\n",
        "            b.sort()\n",
        "            F1 = a[:k-2] # first k-2 items of freq_sets[i]\n",
        "            F2 = b[:k-2] # first k-2 items of freq_sets[j]\n",
        "\n",
        "            if F1 == F2: # if the first k-2 items are identical\n",
        "                # Merge the frequent itemsets.\n",
        "                retList.append(freq_sets[i] | freq_sets[j])\n",
        "\n",
        "    return retList\n",
        "\n",
        "def rules_from_conseq(freq_set, H, support_data, rules, min_confidence=0.5, verbose=False):\n",
        "\n",
        "    m = len(H[0])\n",
        "    if m == 1:\n",
        "        Hmp1 = calc_confidence(freq_set, H, support_data, rules, min_confidence, verbose)\n",
        "    if (len(freq_set) > (m+1)):\n",
        "        Hmp1 = apriori_gen(H, m+1) # generate candidate itemsets\n",
        "        Hmp1 = calc_confidence(freq_set, Hmp1, support_data, rules, min_confidence, verbose)\n",
        "        if len(Hmp1) > 1:\n",
        "            # If there are candidate rules above the minimum confidence \n",
        "            # threshold, recurse on the list of these candidate rules.\n",
        "            rules_from_conseq(freq_set, Hmp1, support_data, rules, min_confidence, verbose)\n",
        "\n",
        "def calc_confidence(freq_set, H, support_data, rules, min_confidence=0.5, verbose=False):\n",
        "  \n",
        "    pruned_H = [] # list of candidate rules above the minimum confidence threshold\n",
        "    for conseq in H: # iterate over the frequent itemsets\n",
        "        conf = support_data[freq_set] / support_data[freq_set - conseq]\n",
        "        if conf >= min_confidence:\n",
        "            rules.append((freq_set - conseq, conseq, conf))\n",
        "            pruned_H.append(conseq)\n",
        "\n",
        "            if verbose:\n",
        "                print(\"\" \\\n",
        "                    + \"{\" \\\n",
        "                    + \"\".join([str(i) + \", \" for i in iter(freq_set-conseq)]).rstrip(', ') \\\n",
        "                    + \"}\" \\\n",
        "                    + \" ---> \" \\\n",
        "                    + \"{\" \\\n",
        "                    + \"\".join([str(i) + \", \" for i in iter(conseq)]).rstrip(', ') \\\n",
        "                    + \"}\" \\\n",
        "                    + \":  conf = \" + str(round(conf, 3)) \\\n",
        "                    + \", sup = \" + str(round(support_data[freq_set], 3)))\n",
        "\n",
        "    return pruned_H\n",
        "\n",
        "def generate_rules(F, support_data, min_confidence=0.5, verbose=True):\n",
        "\n",
        "    rules = []\n",
        "    for i in range(1, len(F)):\n",
        "        for freq_set in F[i]:\n",
        "            H1 = [frozenset([itemset]) for itemset in freq_set]\n",
        "            if (i > 1):\n",
        "                rules_from_conseq(freq_set, H1, support_data, rules, min_confidence, verbose)\n",
        "            else:\n",
        "                calc_confidence(freq_set, H1, support_data, rules, min_confidence, verbose)\n",
        "\n",
        "    return rules"
      ]
    },
    {
      "cell_type": "code",
      "source": [
        "dataset = load_dataset('/content/drive/MyDrive/dataset/grocery.csv')\n",
        "D = list(map(set, dataset))"
      ],
      "metadata": {
        "colab": {
          "base_uri": "https://localhost:8080/"
        },
        "id": "7Yle6Iw6wDse",
        "outputId": "79d6a9a6-a3de-4a5c-ed8c-19828f425885"
      },
      "execution_count": 2,
      "outputs": [
        {
          "output_type": "stream",
          "name": "stderr",
          "text": [
            "/usr/local/lib/python3.7/dist-packages/ipykernel_launcher.py:9: VisibleDeprecationWarning: Creating an ndarray from ragged nested sequences (which is a list-or-tuple of lists-or-tuples-or ndarrays with different lengths or shapes) is deprecated. If you meant to do this, you must specify 'dtype=object' when creating the ndarray.\n",
            "  if __name__ == '__main__':\n"
          ]
        }
      ]
    },
    {
      "cell_type": "code",
      "source": [
        "type(dataset)"
      ],
      "metadata": {
        "colab": {
          "base_uri": "https://localhost:8080/"
        },
        "id": "xaD9sqc8vV85",
        "outputId": "09383b22-0410-4b41-ec58-1bfb16c601ec"
      },
      "execution_count": 3,
      "outputs": [
        {
          "output_type": "execute_result",
          "data": {
            "text/plain": [
              "numpy.ndarray"
            ]
          },
          "metadata": {},
          "execution_count": 3
        }
      ]
    },
    {
      "cell_type": "code",
      "source": [
        "dataset.shape"
      ],
      "metadata": {
        "colab": {
          "base_uri": "https://localhost:8080/"
        },
        "id": "dwMfXB99vWCH",
        "outputId": "15cae82f-c891-4343-9154-96911f9d2ab2"
      },
      "execution_count": 4,
      "outputs": [
        {
          "output_type": "execute_result",
          "data": {
            "text/plain": [
              "(9835,)"
            ]
          },
          "metadata": {},
          "execution_count": 4
        }
      ]
    },
    {
      "cell_type": "code",
      "source": [
        "dataset[0]"
      ],
      "metadata": {
        "colab": {
          "base_uri": "https://localhost:8080/"
        },
        "id": "qoRgPC6QwJpx",
        "outputId": "ba437993-fd33-453f-e73d-f337170f61f6"
      },
      "execution_count": 5,
      "outputs": [
        {
          "output_type": "execute_result",
          "data": {
            "text/plain": [
              "['citrus fruit', 'semi-finished bread', 'margarine', 'ready soups']"
            ]
          },
          "metadata": {},
          "execution_count": 5
        }
      ]
    },
    {
      "cell_type": "code",
      "source": [
        "type(D[0])"
      ],
      "metadata": {
        "colab": {
          "base_uri": "https://localhost:8080/"
        },
        "id": "cvFEqkQawMyx",
        "outputId": "02fead51-637c-4dba-b858-23abde41314b"
      },
      "execution_count": 6,
      "outputs": [
        {
          "output_type": "execute_result",
          "data": {
            "text/plain": [
              "set"
            ]
          },
          "metadata": {},
          "execution_count": 6
        }
      ]
    },
    {
      "cell_type": "code",
      "source": [
        "# Generate candidate itemsets.\n",
        "C1 = create_candidates(dataset, verbose=True) # candidate 1-itemsets"
      ],
      "metadata": {
        "colab": {
          "base_uri": "https://localhost:8080/"
        },
        "id": "T4KglxBzt0c3",
        "outputId": "438846d5-31f2-4863-b6d0-b17574d80d35"
      },
      "execution_count": 7,
      "outputs": [
        {
          "output_type": "stream",
          "name": "stdout",
          "text": [
            "{Instant food products, UHT-milk, abrasive cleaner, artif. sweetener, baby cosmetics, baby food, bags, baking powder, bathroom cleaner, beef, berries, beverages, bottled beer, bottled water, brandy, brown bread, butter, butter milk, cake bar, candles, candy, canned beer, canned fish, canned fruit, canned vegetables, cat food, cereals, chewing gum, chicken, chocolate, chocolate marshmallow, citrus fruit, cleaner, cling film/bags, cocoa drinks, coffee, condensed milk, cooking chocolate, cookware, cream, cream cheese , curd, curd cheese, decalcifier, dental care, dessert, detergent, dish cleaner, dishes, dog food, domestic eggs, female sanitary products, finished products, fish, flour, flower (seeds), flower soil/fertilizer, frankfurter, frozen chicken, frozen dessert, frozen fish, frozen fruits, frozen meals, frozen potato products, frozen vegetables, fruit/vegetable juice, grapes, hair spray, ham, hamburger meat, hard cheese, herbs, honey, house keeping products, hygiene articles, ice cream, instant coffee, jam, ketchup, kitchen towels, kitchen utensil, light bulbs, liqueur, liquor, liquor (appetizer), liver loaf, long life bakery product, make up remover, male cosmetics, margarine, mayonnaise, meat, meat spreads, misc. beverages, mustard, napkins, newspapers, nut snack, nuts/prunes, oil, onions, organic products, organic sausage, other vegetables, packaged fruit/vegetables, pasta, pastry, pet care, photo/film, pickled vegetables, pip fruit, popcorn, pork, pot plants, potato products, preservation products, processed cheese, prosecco, pudding powder, ready soups, red/blush wine, rice, roll products , rolls/buns, root vegetables, rubbing alcohol, rum, salad dressing, salt, salty snack, sauces, sausage, seasonal products, semi-finished bread, shopping bags, skin care, sliced cheese, snack products, soap, soda, soft cheese, softener, sound storage medium, soups, sparkling wine, specialty bar, specialty cheese, specialty chocolate, specialty fat, specialty vegetables, spices, spread cheese, sugar, sweet spreads, syrup, tea, tidbits, toilet cleaner, tropical fruit, turkey, vinegar, waffles, whipped/sour cream, whisky, white bread, white wine, whole milk, yogurt, zwieback}\n"
          ]
        }
      ]
    },
    {
      "cell_type": "code",
      "source": [
        "# Prune candidate 1-itemsets via support-based pruning to generate frequent 1-itemsets.\n",
        "F1, support_data = support_prune(D, C1, 0.6, verbose=True)"
      ],
      "metadata": {
        "colab": {
          "base_uri": "https://localhost:8080/"
        },
        "id": "21Nesb7Zt0f_",
        "outputId": "8479798c-b9b9-4ed0-faa4-cdd68516187c"
      },
      "execution_count": 8,
      "outputs": [
        {
          "output_type": "stream",
          "name": "stdout",
          "text": [
            "\n",
            "{citrus fruit}:  sup = 0.08276563294356888\n",
            "{margarine}:  sup = 0.05856634468734113\n",
            "{ready soups}:  sup = 0.0018301982714794102\n",
            "{semi-finished bread}:  sup = 0.017691916624300967\n",
            "{coffee}:  sup = 0.05805795627859685\n",
            "{tropical fruit}:  sup = 0.10493136756481952\n",
            "{yogurt}:  sup = 0.13950177935943062\n",
            "{whole milk}:  sup = 0.25551601423487547\n",
            "{cream cheese}:  sup = 0.03965429588205389\n",
            "{meat spreads}:  sup = 0.004270462633451958\n",
            "{pip fruit}:  sup = 0.07564819522114896\n",
            "{condensed milk}:  sup = 0.010269445856634469\n",
            "{long life bakery product}:  sup = 0.037417386883579054\n",
            "{other vegetables}:  sup = 0.1934926283680732\n",
            "{abrasive cleaner}:  sup = 0.0035587188612099642\n",
            "{butter}:  sup = 0.05541433655312659\n",
            "{rice}:  sup = 0.007625826131164209\n",
            "{rolls/buns}:  sup = 0.18393492628368074\n",
            "{UHT-milk}:  sup = 0.03345195729537367\n",
            "{bottled beer}:  sup = 0.08052872394509406\n",
            "{liquor (appetizer)}:  sup = 0.007930859176410779\n",
            "{pot plants}:  sup = 0.01728520589730554\n",
            "{cereals}:  sup = 0.0056939501779359435\n",
            "{bottled water}:  sup = 0.11052364006100661\n",
            "{chocolate}:  sup = 0.04961870869344179\n",
            "{white bread}:  sup = 0.042094560244026434\n",
            "{curd}:  sup = 0.05327910523640061\n",
            "{dishes}:  sup = 0.01759023894255211\n",
            "{flour}:  sup = 0.017386883579054397\n",
            "{beef}:  sup = 0.05246568378240976\n",
            "{frankfurter}:  sup = 0.058973055414336555\n",
            "{soda}:  sup = 0.17437722419928825\n",
            "{chicken}:  sup = 0.04290798169801729\n",
            "{fruit/vegetable juice}:  sup = 0.0722928317234367\n",
            "{newspapers}:  sup = 0.07981698017285206\n",
            "{sugar}:  sup = 0.03385866802236909\n",
            "{packaged fruit/vegetables}:  sup = 0.013014743263853584\n",
            "{specialty bar}:  sup = 0.027351296390442297\n",
            "{butter milk}:  sup = 0.027961362480935434\n",
            "{pastry}:  sup = 0.08896797153024912\n",
            "{detergent}:  sup = 0.019217081850533807\n",
            "{processed cheese}:  sup = 0.016573462125063547\n",
            "{bathroom cleaner}:  sup = 0.0027452974072191155\n",
            "{candy}:  sup = 0.0298932384341637\n",
            "{frozen dessert}:  sup = 0.010777834265378749\n",
            "{root vegetables}:  sup = 0.10899847483477376\n",
            "{salty snack}:  sup = 0.03782409761057448\n",
            "{sweet spreads}:  sup = 0.009049313675648195\n",
            "{waffles}:  sup = 0.038434163701067614\n",
            "{canned beer}:  sup = 0.07768174885612608\n",
            "{sausage}:  sup = 0.09395017793594305\n",
            "{brown bread}:  sup = 0.06487036095577021\n",
            "{shopping bags}:  sup = 0.09852567361464158\n",
            "{beverages}:  sup = 0.026029486527707167\n",
            "{hamburger meat}:  sup = 0.033248601931875954\n",
            "{hygiene articles}:  sup = 0.03294356888662939\n",
            "{napkins}:  sup = 0.05236400610066091\n",
            "{spices}:  sup = 0.005185561769191663\n",
            "{artif. sweetener}:  sup = 0.003253685815963396\n",
            "{berries}:  sup = 0.033248601931875954\n",
            "{pork}:  sup = 0.05765124555160142\n",
            "{whipped/sour cream}:  sup = 0.07168276563294357\n",
            "{grapes}:  sup = 0.022369089984748347\n",
            "{dessert}:  sup = 0.03711235383833249\n",
            "{zwieback}:  sup = 0.006914082358922217\n",
            "{domestic eggs}:  sup = 0.06344687341128623\n",
            "{spread cheese}:  sup = 0.011184544992374174\n",
            "{misc. beverages}:  sup = 0.02836807320793086\n",
            "{hard cheese}:  sup = 0.024504321301474327\n",
            "{cat food}:  sup = 0.023284189120488054\n",
            "{ham}:  sup = 0.026029486527707167\n",
            "{baking powder}:  sup = 0.017691916624300967\n",
            "{turkey}:  sup = 0.00813421453990849\n",
            "{pickled vegetables}:  sup = 0.017895271987798677\n",
            "{chewing gum}:  sup = 0.021047280122013217\n",
            "{chocolate marshmallow}:  sup = 0.009049313675648195\n",
            "{oil}:  sup = 0.02806304016268429\n",
            "{ice cream}:  sup = 0.025012709710218607\n",
            "{canned fish}:  sup = 0.015048296898830707\n",
            "{frozen vegetables}:  sup = 0.04809354346720895\n",
            "{seasonal products}:  sup = 0.014234875444839857\n",
            "{curd cheese}:  sup = 0.005083884087442806\n",
            "{red/blush wine}:  sup = 0.019217081850533807\n",
            "{frozen potato products}:  sup = 0.008439247585155059\n",
            "{candles}:  sup = 0.008947635993899338\n",
            "{flower (seeds)}:  sup = 0.010371123538383325\n",
            "{specialty chocolate}:  sup = 0.03040162684290798\n",
            "{specialty fat}:  sup = 0.0036603965429588205\n",
            "{sparkling wine}:  sup = 0.005592272496187087\n",
            "{salt}:  sup = 0.010777834265378749\n",
            "{frozen meals}:  sup = 0.02836807320793086\n",
            "{canned vegetables}:  sup = 0.010777834265378749\n",
            "{onions}:  sup = 0.031011692933401117\n",
            "{herbs}:  sup = 0.01626842907981698\n",
            "{white wine}:  sup = 0.019013726487036097\n",
            "{brandy}:  sup = 0.004168784951703101\n",
            "{photo/film}:  sup = 0.009252669039145907\n",
            "{sliced cheese}:  sup = 0.024504321301474327\n",
            "{pasta}:  sup = 0.015048296898830707\n",
            "{softener}:  sup = 0.005490594814438231\n",
            "{cling film/bags}:  sup = 0.011387900355871887\n",
            "{fish}:  sup = 0.0029486527707168276\n",
            "{male cosmetics}:  sup = 0.004575495678698526\n",
            "{canned fruit}:  sup = 0.003253685815963396\n",
            "{Instant food products}:  sup = 0.008032536858159633\n",
            "{soft cheese}:  sup = 0.01708185053380783\n",
            "{honey}:  sup = 0.001525165226232842\n",
            "{dental care}:  sup = 0.005795627859684799\n",
            "{popcorn}:  sup = 0.007219115404168785\n",
            "{cake bar}:  sup = 0.013218098627351297\n",
            "{snack products}:  sup = 0.003050330452465684\n",
            "{flower soil/fertilizer}:  sup = 0.0019318759532282665\n",
            "{specialty cheese}:  sup = 0.008540925266903915\n",
            "{finished products}:  sup = 0.006507371631926792\n",
            "{cocoa drinks}:  sup = 0.0022369089984748346\n",
            "{dog food}:  sup = 0.008540925266903915\n",
            "{prosecco}:  sup = 0.0020335536349771225\n",
            "{frozen fish}:  sup = 0.011692933401118455\n",
            "{make up remover}:  sup = 0.000813421453990849\n",
            "{cleaner}:  sup = 0.005083884087442806\n",
            "{female sanitary products}:  sup = 0.006100660904931368\n",
            "{cookware}:  sup = 0.0027452974072191155\n",
            "{dish cleaner}:  sup = 0.01047280122013218\n",
            "{meat}:  sup = 0.025826131164209457\n",
            "{tea}:  sup = 0.003863751906456533\n",
            "{mustard}:  sup = 0.011997966446365024\n",
            "{house keeping products}:  sup = 0.008337569903406202\n",
            "{skin care}:  sup = 0.0035587188612099642\n",
            "{potato products}:  sup = 0.0028469750889679717\n",
            "{liquor}:  sup = 0.011082867310625319\n",
            "{pet care}:  sup = 0.00945602440264362\n",
            "{soups}:  sup = 0.00681240467717336\n",
            "{rum}:  sup = 0.004473817996949669\n",
            "{salad dressing}:  sup = 0.000813421453990849\n",
            "{sauces}:  sup = 0.005490594814438231\n",
            "{vinegar}:  sup = 0.006507371631926792\n",
            "{soap}:  sup = 0.0026436197254702592\n",
            "{hair spray}:  sup = 0.0011184544992374173\n",
            "{instant coffee}:  sup = 0.007422470767666497\n",
            "{roll products}:  sup = 0.010269445856634469\n",
            "{mayonnaise}:  sup = 0.009150991357397052\n",
            "{rubbing alcohol}:  sup = 0.0010167768174885613\n",
            "{syrup}:  sup = 0.003253685815963396\n",
            "{liver loaf}:  sup = 0.005083884087442806\n",
            "{baby cosmetics}:  sup = 0.0006100660904931368\n",
            "{organic products}:  sup = 0.001626842907981698\n",
            "{nut snack}:  sup = 0.00315200813421454\n",
            "{kitchen towels}:  sup = 0.005998983223182512\n",
            "{frozen chicken}:  sup = 0.0006100660904931368\n",
            "{light bulbs}:  sup = 0.004168784951703101\n",
            "{ketchup}:  sup = 0.004270462633451958\n",
            "{jam}:  sup = 0.005388917132689374\n",
            "{decalcifier}:  sup = 0.001525165226232842\n",
            "{nuts/prunes}:  sup = 0.003355363497712252\n",
            "{liqueur}:  sup = 0.0009150991357397051\n",
            "{organic sausage}:  sup = 0.0022369089984748346\n",
            "{cream}:  sup = 0.0013218098627351296\n",
            "{toilet cleaner}:  sup = 0.0007117437722419929\n",
            "{specialty vegetables}:  sup = 0.0017285205897305542\n",
            "{baby food}:  sup = 0.00010167768174885612\n",
            "{pudding powder}:  sup = 0.002338586680223691\n",
            "{tidbits}:  sup = 0.002338586680223691\n",
            "{whisky}:  sup = 0.000813421453990849\n",
            "{frozen fruits}:  sup = 0.0012201321809862736\n",
            "{bags}:  sup = 0.0004067107269954245\n",
            "{cooking chocolate}:  sup = 0.002541942043721403\n",
            "{sound storage medium}:  sup = 0.00010167768174885612\n",
            "{kitchen utensil}:  sup = 0.0004067107269954245\n",
            "{preservation products}:  sup = 0.00020335536349771224\n"
          ]
        }
      ]
    },
    {
      "cell_type": "code",
      "source": [
        "# Generate all the frequent itemsets using the Apriori algorithm.\n",
        "F, support_data = apriori(dataset, min_support=0.1, verbose=True)"
      ],
      "metadata": {
        "colab": {
          "base_uri": "https://localhost:8080/"
        },
        "id": "W63JhX2Sx699",
        "outputId": "cd432af5-5a86-48bc-a389-a5ad092ac985"
      },
      "execution_count": 9,
      "outputs": [
        {
          "output_type": "stream",
          "name": "stdout",
          "text": [
            "{root vegetables}:  sup = 0.109\n",
            "{soda}:  sup = 0.174\n",
            "{bottled water}:  sup = 0.111\n",
            "{rolls/buns}:  sup = 0.184\n",
            "{other vegetables}:  sup = 0.193\n",
            "{whole milk}:  sup = 0.256\n",
            "{yogurt}:  sup = 0.14\n",
            "{tropical fruit}:  sup = 0.105\n"
          ]
        }
      ]
    },
    {
      "cell_type": "code",
      "source": [
        "# Generate the association rules from a list of frequent itemsets.\n",
        "H = generate_rules(F, support_data, min_confidence=0.6, verbose=True)"
      ],
      "metadata": {
        "id": "m5DGa_Znx7D6"
      },
      "execution_count": 10,
      "outputs": []
    },
    {
      "cell_type": "code",
      "source": [
        ""
      ],
      "metadata": {
        "id": "UHIAJdmezv3T"
      },
      "execution_count": null,
      "outputs": []
    },
    {
      "cell_type": "code",
      "source": [
        "#Q2"
      ],
      "metadata": {
        "id": "uB8o_rbmzvz7"
      },
      "execution_count": null,
      "outputs": []
    },
    {
      "cell_type": "code",
      "source": [
        "from collections import defaultdict, namedtuple\n",
        "#from itertools import imap\n",
        "\n",
        "__author__ = 'Eric Naeseth <eric@naeseth.com>'\n",
        "__copyright__ = 'Copyright © 2009 Eric Naeseth'\n",
        "__license__ = 'MIT License'\n",
        "\n",
        "def fpgrowth(dataset, min_support=0.5, include_support=True, verbose=False):\n",
        "  \n",
        "\n",
        "    F = []\n",
        "    support_data = {}\n",
        "    for k,v in find_frequent_itemsets(dataset, min_support=min_support, include_support=include_support, verbose=verbose):\n",
        "        F.append(frozenset(k))\n",
        "        support_data[frozenset(k)] = v\n",
        "\n",
        "    # Create one array with subarrays that hold all transactions of equal length.\n",
        "    def bucket_list(nested_list, sort=True):\n",
        "        bucket = defaultdict(list)\n",
        "        for sublist in nested_list:\n",
        "            bucket[len(sublist)].append(sublist)\n",
        "        return [v for k,v in sorted(bucket.items())] if sort else bucket.values()\n",
        "\n",
        "    F = bucket_list(F)\n",
        "    \n",
        "    return F, support_data\n",
        "\n",
        "def find_frequent_itemsets(dataset, min_support, include_support=False, verbose=False):\n",
        " \n",
        "    items = defaultdict(lambda: 0) # mapping from items to their supports\n",
        "    processed_transactions = []\n",
        "\n",
        "    # Load the passed-in transactions and count the support that individual\n",
        "    # items have.\n",
        "    for transaction in dataset:\n",
        "        processed = []\n",
        "        for item in transaction:\n",
        "            items[item] += 1\n",
        "            processed.append(item)\n",
        "        processed_transactions.append(processed)\n",
        "\n",
        "    # Remove infrequent items from the item support dictionary.\n",
        "    items = dict((item, support) for item, support in items.items()\n",
        "        if support >= min_support)\n",
        "\n",
        "    # Build our FP-tree. Before any transactions can be added to the tree, they\n",
        "    # must be stripped of infrequent items and their surviving items must be\n",
        "    # sorted in decreasing order of frequency.\n",
        "    def clean_transaction(transaction):\n",
        "        #transaction = filter(lambda v: v in items, transaction)\n",
        "        transaction.sort(key=lambda v: items[v], reverse=True)\n",
        "        return transaction\n",
        "\n",
        "    master = FPTree()\n",
        "    for transaction in map(clean_transaction, processed_transactions):\n",
        "        master.add(transaction)\n",
        "\n",
        "    support_data = {}\n",
        "    def find_with_suffix(tree, suffix):\n",
        "        for item, nodes in tree.items():\n",
        "            support = float(sum(n.count for n in nodes)) / len(dataset)\n",
        "            if support >= min_support and item not in suffix:\n",
        "                # New winner!\n",
        "                found_set = [item] + suffix\n",
        "                support_data[frozenset(found_set)] = support\n",
        "                yield (found_set, support) if include_support else found_set\n",
        "\n",
        "                # Build a conditional tree and recursively search for frequent\n",
        "                # itemsets within it.\n",
        "                cond_tree = conditional_tree_from_paths(tree.prefix_paths(item),\n",
        "                    min_support)\n",
        "                for s in find_with_suffix(cond_tree, found_set):\n",
        "                    yield s # pass along the good news to our caller\n",
        "\n",
        "    if verbose:\n",
        "        # Print a list of all the frequent itemsets.\n",
        "        for itemset, support in find_with_suffix(master, []):\n",
        "            print(\"\" \\\n",
        "                + \"{\" \\\n",
        "                + \"\".join(str(i) + \", \" for i in iter(itemset)).rstrip(', ') \\\n",
        "                + \"}\" \\\n",
        "                + \":  sup = \" + str(round(support_data[frozenset(itemset)], 3)))\n",
        "\n",
        "    # Search for frequent itemsets, and yield the results we find.\n",
        "    for itemset in find_with_suffix(master, []):\n",
        "        yield itemset\n",
        "\n",
        "class FPTree(object):\n",
        "\n",
        "    Route = namedtuple('Route', 'head tail')\n",
        "\n",
        "    def __init__(self):\n",
        "        # The root node of the tree.\n",
        "        self._root = FPNode(self, None, None)\n",
        "\n",
        "        # A dictionary mapping items to the head and tail of a path of\n",
        "        # \"neighbors\" that will hit every node containing that item.\n",
        "        self._routes = {}\n",
        "\n",
        "    @property\n",
        "    def root(self):\n",
        "        \"\"\"The root node of the tree.\"\"\"\n",
        "        return self._root\n",
        "\n",
        "    def add(self, transaction):\n",
        "        \"\"\"\n",
        "        Adds a transaction to the tree.\n",
        "        \"\"\"\n",
        "\n",
        "        point = self._root\n",
        "\n",
        "        for item in transaction:\n",
        "            next_point = point.search(item)\n",
        "            if next_point:\n",
        "                # There is already a node in this tree for the current\n",
        "                # transaction item; reuse it.\n",
        "                next_point.increment()\n",
        "            else:\n",
        "                # Create a new point and add it as a child of the point we're\n",
        "                # currently looking at.\n",
        "                next_point = FPNode(self, item)\n",
        "                point.add(next_point)\n",
        "\n",
        "                # Update the route of nodes that contain this item to include\n",
        "                # our new node.\n",
        "                self._update_route(next_point)\n",
        "\n",
        "            point = next_point\n",
        "\n",
        "    def _update_route(self, point):\n",
        "        \"\"\"Add the given node to the route through all nodes for its item.\"\"\"\n",
        "        assert self is point.tree\n",
        "\n",
        "        try:\n",
        "            route = self._routes[point.item]\n",
        "            route[1].neighbor = point # route[1] is the tail\n",
        "            self._routes[point.item] = self.Route(route[0], point)\n",
        "        except KeyError:\n",
        "            # First node for this item; start a new route.\n",
        "            self._routes[point.item] = self.Route(point, point)\n",
        "\n",
        "    def items(self):\n",
        "\n",
        "        for item in self._routes.keys():\n",
        "            yield (item, self.nodes(item))\n",
        "\n",
        "            \n",
        "    def nodes(self, item):\n",
        "        \"\"\"\n",
        "        Generates the sequence of nodes that contain the given item.\n",
        "        \"\"\"\n",
        "\n",
        "        try:\n",
        "            node = self._routes[item][0]\n",
        "        except KeyError:\n",
        "            return\n",
        "\n",
        "        while node:\n",
        "            yield node\n",
        "            node = node.neighbor\n",
        "\n",
        "    def prefix_paths(self, item):\n",
        "        \"\"\"Generates the prefix paths that end with the given item.\"\"\"\n",
        "\n",
        "        def collect_path(node):\n",
        "            path = []\n",
        "            while node and not node.root:\n",
        "                path.append(node)\n",
        "                node = node.parent\n",
        "            path.reverse()\n",
        "            return path\n",
        "\n",
        "        return (collect_path(node) for node in self.nodes(item))\n",
        "\n",
        "    def inspect(self):\n",
        "        print(\"Tree:\")\n",
        "        self.root.inspect(1)\n",
        "\n",
        "        print(\"\")\n",
        "        print(\"Routes:\")\n",
        "        for item, nodes in self.items():\n",
        "            print(\"  %r\" % item)\n",
        "            for node in nodes:\n",
        "                print(\"    %r\" % node)\n",
        "\n",
        "    def _removed(self, node):\n",
        "        \"\"\"Called when `node` is removed from the tree; performs cleanup.\"\"\"\n",
        "\n",
        "        head, tail = self._routes[node.item]\n",
        "        if node is head:\n",
        "            if node is tail or not node.neighbor:\n",
        "                # It was the sole node.\n",
        "                del self._routes[node.item]\n",
        "            else:\n",
        "                self._routes[node.item] = self.Route(node.neighbor, tail)\n",
        "        else:\n",
        "            for n in self.nodes(node.item):\n",
        "                if n.neighbor is node:\n",
        "                    n.neighbor = node.neighbor # skip over\n",
        "                    if node is tail:\n",
        "                        self._routes[node.item] = self.Route(head, n)\n",
        "                    break\n",
        "\n",
        "def conditional_tree_from_paths(paths, min_support):\n",
        "    \"\"\"Builds a conditional FP-tree from the given prefix paths.\"\"\"\n",
        "    tree = FPTree()\n",
        "    condition_item = None\n",
        "    items = set()\n",
        "\n",
        "    # Import the nodes in the paths into the new tree. Only the counts of the\n",
        "    # leaf notes matter; the remaining counts will be reconstructed from the\n",
        "    # leaf counts.\n",
        "    for path in paths:\n",
        "        if condition_item is None:\n",
        "            condition_item = path[-1].item\n",
        "\n",
        "        point = tree.root\n",
        "        for node in path:\n",
        "            next_point = point.search(node.item)\n",
        "            if not next_point:\n",
        "                # Add a new node to the tree.\n",
        "                items.add(node.item)\n",
        "                count = node.count if node.item == condition_item else 0\n",
        "                next_point = FPNode(tree, node.item, count)\n",
        "                point.add(next_point)\n",
        "                tree._update_route(next_point)\n",
        "            point = next_point\n",
        "\n",
        "    assert condition_item is not None\n",
        "\n",
        "    # Calculate the counts of the non-leaf nodes.\n",
        "    for path in tree.prefix_paths(condition_item):\n",
        "        count = path[-1].count\n",
        "        for node in reversed(path[:-1]):\n",
        "            node._count += count\n",
        "\n",
        "    # Eliminate the nodes for any items that are no longer frequent.\n",
        "    for item in items:\n",
        "        support = sum(n.count for n in tree.nodes(item))\n",
        "        if support < min_support:\n",
        "            # Doesn't make the cut anymore\n",
        "            for node in tree.nodes(item):\n",
        "                if node.parent is not None:\n",
        "                    node.parent.remove(node)\n",
        "\n",
        "    # Finally, remove the nodes corresponding to the item for which this\n",
        "    # conditional tree was generated.\n",
        "    for node in tree.nodes(condition_item):\n",
        "        if node.parent is not None: # the node might already be an orphan\n",
        "            node.parent.remove(node)\n",
        "\n",
        "    return tree\n",
        "\n",
        "class FPNode(object):\n",
        "    \"\"\"A node in an FP tree.\"\"\"\n",
        "\n",
        "    def __init__(self, tree, item, count=1):\n",
        "        self._tree = tree\n",
        "        self._item = item\n",
        "        self._count = count\n",
        "        self._parent = None\n",
        "        self._children = {}\n",
        "        self._neighbor = None\n",
        "\n",
        "    def add(self, child):\n",
        "        \"\"\"Adds the given FPNode `child` as a child of this node.\"\"\"\n",
        "\n",
        "        if not isinstance(child, FPNode):\n",
        "            raise TypeError(\"Can only add other FPNodes as children\")\n",
        "\n",
        "        if not child.item in self._children:\n",
        "            self._children[child.item] = child\n",
        "            child.parent = self\n",
        "\n",
        "    def search(self, item):\n",
        "        \"\"\"\n",
        "        Checks to see if this node contains a child node for the given item.\n",
        "        If so, that node is returned; otherwise, `None` is returned.\n",
        "        \"\"\"\n",
        "\n",
        "        try:\n",
        "            return self._children[item]\n",
        "        except KeyError:\n",
        "            return None\n",
        "\n",
        "    def remove(self, child):\n",
        "        try:\n",
        "            if self._children[child.item] is child:\n",
        "                del self._children[child.item]\n",
        "                child.parent = None\n",
        "                self._tree._removed(child)\n",
        "                for sub_child in child.children:\n",
        "                    try:\n",
        "                        # Merger case: we already have a child for that item, so\n",
        "                        # add the sub-child's count to our child's count.\n",
        "                        self._children[sub_child.item]._count += sub_child.count\n",
        "                        sub_child.parent = None # it's an orphan now\n",
        "                    except KeyError:\n",
        "                        # Turns out we don't actually have a child, so just add\n",
        "                        # the sub-child as our own child.\n",
        "                        self.add(sub_child)\n",
        "                child._children = {}\n",
        "            else:\n",
        "                raise ValueError(\"that node is not a child of this node\")\n",
        "        except KeyError:\n",
        "            raise ValueError(\"that node is not a child of this node\")\n",
        "\n",
        "    def __contains__(self, item):\n",
        "        return item in self._children\n",
        "\n",
        "    @property\n",
        "    def tree(self):\n",
        "        \"\"\"The tree in which this node appears.\"\"\"\n",
        "        return self._tree\n",
        "\n",
        "    @property\n",
        "    def item(self):\n",
        "        \"\"\"The item contained in this node.\"\"\"\n",
        "        return self._item\n",
        "\n",
        "    @property\n",
        "    def count(self):\n",
        "        \"\"\"The count associated with this node's item.\"\"\"\n",
        "        return self._count\n",
        "\n",
        "    def increment(self):\n",
        "        \"\"\"Increments the count associated with this node's item.\"\"\"\n",
        "        if self._count is None:\n",
        "            raise ValueError(\"Root nodes have no associated count.\")\n",
        "        self._count += 1\n",
        "\n",
        "    @property\n",
        "    def root(self):\n",
        "        \"\"\"True if this node is the root of a tree; false if otherwise.\"\"\"\n",
        "        return self._item is None and self._count is None\n",
        "\n",
        "    @property\n",
        "    def leaf(self):\n",
        "        \"\"\"True if this node is a leaf in the tree; false if otherwise.\"\"\"\n",
        "        return len(self._children) == 0\n",
        "\n",
        "    def parent():\n",
        "        doc = \"The node's parent.\"\n",
        "        def fget(self):\n",
        "            return self._parent\n",
        "        def fset(self, value):\n",
        "            if value is not None and not isinstance(value, FPNode):\n",
        "                raise TypeError(\"A node must have an FPNode as a parent.\")\n",
        "            if value and value.tree is not self.tree:\n",
        "                raise ValueError(\"Cannot have a parent from another tree.\")\n",
        "            self._parent = value\n",
        "        return locals()\n",
        "    parent = property(**parent())\n",
        "\n",
        "    def neighbor():\n",
        "        doc = \"\"\"\n",
        "        The node's neighbor; the one with the same value that is \"to the right\"\n",
        "        of it in the tree.\n",
        "        \"\"\"\n",
        "        def fget(self):\n",
        "            return self._neighbor\n",
        "        def fset(self, value):\n",
        "            if value is not None and not isinstance(value, FPNode):\n",
        "                raise TypeError(\"A node must have an FPNode as a neighbor.\")\n",
        "            if value and value.tree is not self.tree:\n",
        "                raise ValueError(\"Cannot have a neighbor from another tree.\")\n",
        "            self._neighbor = value\n",
        "        return locals()\n",
        "    neighbor = property(**neighbor())\n",
        "\n",
        "    @property\n",
        "    def children(self):\n",
        "        \"\"\"The nodes that are children of this node.\"\"\"\n",
        "        return tuple(self._children.values())\n",
        "        \n",
        "    def inspect(self, depth=0):\n",
        "        print(('  ' * depth) + repr(self))\n",
        "        for child in self.children:\n",
        "            child.inspect(depth + 1)\n",
        "\n",
        "    def __repr__(self):\n",
        "        if self.root:\n",
        "            return \"<%s (root)>\" % type(self).__name__\n",
        "        return \"<%s %r (%r)>\" % (type(self).__name__, self.item, self.count)\n",
        "\n",
        "def rules_from_conseq(freq_set, H, support_data, rules, min_confidence=0.5, verbose=False):\n",
        "  \n",
        "    m = len(H[0])\n",
        "    if m == 1:\n",
        "        Hmp1 = calc_confidence(freq_set, H, support_data, rules, min_confidence, verbose)\n",
        "    if (len(freq_set) > (m+1)):\n",
        "        Hmp1 = apriori_gen(H, m+1) # generate candidate itemsets\n",
        "        Hmp1 = calc_confidence(freq_set, Hmp1,  support_data, rules, min_confidence, verbose)\n",
        "        if len(Hmp1) > 1:\n",
        "            # If there are candidate rules above the minimum confidence \n",
        "            # threshold, recurse on the list of these candidate rules.\n",
        "            rules_from_conseq(freq_set, Hmp1, support_data, rules, min_confidence, verbose)\n",
        "\n",
        "def calc_confidence(freq_set, H, support_data, rules, min_confidence=0.5, verbose=False):\n",
        "   \n",
        "    pruned_H = [] # list of candidate rules above the minimum confidence threshold\n",
        "    for conseq in H: # iterate over the frequent itemsets\n",
        "        conf = support_data[freq_set] / support_data[freq_set - conseq]\n",
        "        if conf >= min_confidence:\n",
        "            rules.append((freq_set - conseq, conseq, conf))\n",
        "            pruned_H.append(conseq)\n",
        "\n",
        "            if verbose:\n",
        "                print(\"\" \\\n",
        "                    + \"{\" \\\n",
        "                    + \"\".join([str(i) + \", \" for i in iter(freq_set-conseq)]).rstrip(', ') \\\n",
        "                    + \"}\" \\\n",
        "                    + \" ---> \" \\\n",
        "                    + \"{\" \\\n",
        "                    + \"\".join([str(i) + \", \" for i in iter(conseq)]).rstrip(', ') \\\n",
        "                    + \"}\" \\\n",
        "                    + \":  conf = \" + str(round(conf, 3)) \\\n",
        "                    + \", sup = \" + str(round(support_data[freq_set], 3)))\n",
        "\n",
        "    return pruned_H\n",
        "\n",
        "def generate_rules(F, support_data, min_confidence=0.5, verbose=True):\n",
        " \n",
        "    rules = []\n",
        "    for i in range(1, len(F)):\n",
        "        for freq_set in F[i]:\n",
        "            H1 = [frozenset([item]) for item in freq_set]\n",
        "            if (i > 1):\n",
        "                rules_from_conseq(freq_set, H1, support_data, rules, min_confidence, verbose)\n",
        "            else:\n",
        "                calc_confidence(freq_set, H1, support_data, rules, min_confidence, verbose)\n",
        "\n",
        "    return rules"
      ],
      "metadata": {
        "id": "Nl1f0K9Uzvo_"
      },
      "execution_count": 11,
      "outputs": []
    },
    {
      "cell_type": "code",
      "source": [
        "#Generate all the frequent itemsets using the FP growth algorithm \n",
        "F, support_data = fpgrowth(dataset, min_support=0.1, verbose=True)"
      ],
      "metadata": {
        "colab": {
          "base_uri": "https://localhost:8080/"
        },
        "id": "l-EZF32n0FdE",
        "outputId": "69fbe9fa-d0b8-41e4-a2e2-5aed48191206"
      },
      "execution_count": 12,
      "outputs": [
        {
          "output_type": "stream",
          "name": "stdout",
          "text": [
            "{yogurt}:  sup = 0.14\n",
            "{tropical fruit}:  sup = 0.105\n",
            "{whole milk}:  sup = 0.256\n",
            "{other vegetables}:  sup = 0.193\n",
            "{rolls/buns}:  sup = 0.184\n",
            "{bottled water}:  sup = 0.111\n",
            "{soda}:  sup = 0.174\n",
            "{root vegetables}:  sup = 0.109\n"
          ]
        }
      ]
    },
    {
      "cell_type": "code",
      "source": [
        "#Generate the association rules from a list of frequent itemsets\n",
        "H = generate_rules(F, support_data, min_confidence=0.7, verbose=True)"
      ],
      "metadata": {
        "id": "s_DivYWn0FaM"
      },
      "execution_count": 13,
      "outputs": []
    },
    {
      "cell_type": "code",
      "source": [
        ""
      ],
      "metadata": {
        "id": "qHD4gggv0FVx"
      },
      "execution_count": null,
      "outputs": []
    },
    {
      "cell_type": "code",
      "source": [
        "#Q3"
      ],
      "metadata": {
        "id": "LAeRJuv108wi"
      },
      "execution_count": null,
      "outputs": []
    },
    {
      "cell_type": "code",
      "source": [
        "#Generate all the frequent itemsets using the FP growth algorithm \n",
        "F, support_data = fpgrowth(dataset, min_support=0.02, verbose=True)"
      ],
      "metadata": {
        "id": "39Ty5v-f0879",
        "colab": {
          "base_uri": "https://localhost:8080/"
        },
        "outputId": "508b28cb-57c7-4ae2-c797-cd1ee3c7e32f"
      },
      "execution_count": 14,
      "outputs": [
        {
          "output_type": "stream",
          "name": "stdout",
          "text": [
            "{citrus fruit}:  sup = 0.083\n",
            "{whole milk, citrus fruit}:  sup = 0.031\n",
            "{yogurt, citrus fruit}:  sup = 0.022\n",
            "{other vegetables, citrus fruit}:  sup = 0.029\n",
            "{margarine}:  sup = 0.059\n",
            "{whole milk, margarine}:  sup = 0.024\n",
            "{yogurt}:  sup = 0.14\n",
            "{whole milk, yogurt}:  sup = 0.056\n",
            "{soda, yogurt}:  sup = 0.027\n",
            "{rolls/buns, yogurt}:  sup = 0.034\n",
            "{other vegetables, yogurt}:  sup = 0.043\n",
            "{whole milk, other vegetables, yogurt}:  sup = 0.022\n",
            "{tropical fruit}:  sup = 0.105\n",
            "{yogurt, tropical fruit}:  sup = 0.029\n",
            "{other vegetables, tropical fruit}:  sup = 0.036\n",
            "{whole milk, tropical fruit}:  sup = 0.042\n",
            "{rolls/buns, tropical fruit}:  sup = 0.025\n",
            "{root vegetables, tropical fruit}:  sup = 0.021\n",
            "{soda, tropical fruit}:  sup = 0.021\n",
            "{coffee}:  sup = 0.058\n",
            "{whole milk}:  sup = 0.256\n",
            "{pip fruit}:  sup = 0.076\n",
            "{whole milk, pip fruit}:  sup = 0.03\n",
            "{tropical fruit, pip fruit}:  sup = 0.02\n",
            "{other vegetables, pip fruit}:  sup = 0.026\n",
            "{cream cheese}:  sup = 0.04\n",
            "{other vegetables}:  sup = 0.193\n",
            "{whole milk, other vegetables}:  sup = 0.075\n",
            "{long life bakery product}:  sup = 0.037\n",
            "{butter}:  sup = 0.055\n",
            "{whole milk, butter}:  sup = 0.028\n",
            "{other vegetables, butter}:  sup = 0.02\n",
            "{rolls/buns}:  sup = 0.184\n",
            "{other vegetables, rolls/buns}:  sup = 0.043\n",
            "{whole milk, rolls/buns}:  sup = 0.057\n",
            "{bottled beer}:  sup = 0.081\n",
            "{whole milk, bottled beer}:  sup = 0.02\n",
            "{UHT-milk}:  sup = 0.033\n",
            "{bottled water}:  sup = 0.111\n",
            "{other vegetables, bottled water}:  sup = 0.025\n",
            "{whole milk, bottled water}:  sup = 0.034\n",
            "{yogurt, bottled water}:  sup = 0.023\n",
            "{rolls/buns, bottled water}:  sup = 0.024\n",
            "{soda, bottled water}:  sup = 0.029\n",
            "{chocolate}:  sup = 0.05\n",
            "{white bread}:  sup = 0.042\n",
            "{curd}:  sup = 0.053\n",
            "{whole milk, curd}:  sup = 0.026\n",
            "{beef}:  sup = 0.052\n",
            "{whole milk, beef}:  sup = 0.021\n",
            "{soda}:  sup = 0.174\n",
            "{rolls/buns, soda}:  sup = 0.038\n",
            "{whole milk, soda}:  sup = 0.04\n",
            "{other vegetables, soda}:  sup = 0.033\n",
            "{frankfurter}:  sup = 0.059\n",
            "{whole milk, frankfurter}:  sup = 0.021\n",
            "{chicken}:  sup = 0.043\n",
            "{newspapers}:  sup = 0.08\n",
            "{whole milk, newspapers}:  sup = 0.027\n",
            "{fruit/vegetable juice}:  sup = 0.072\n",
            "{other vegetables, fruit/vegetable juice}:  sup = 0.021\n",
            "{whole milk, fruit/vegetable juice}:  sup = 0.027\n",
            "{sugar}:  sup = 0.034\n",
            "{specialty bar}:  sup = 0.027\n",
            "{pastry}:  sup = 0.089\n",
            "{soda, pastry}:  sup = 0.021\n",
            "{whole milk, pastry}:  sup = 0.033\n",
            "{rolls/buns, pastry}:  sup = 0.021\n",
            "{other vegetables, pastry}:  sup = 0.023\n",
            "{butter milk}:  sup = 0.028\n",
            "{root vegetables}:  sup = 0.109\n",
            "{other vegetables, root vegetables}:  sup = 0.047\n",
            "{whole milk, other vegetables, root vegetables}:  sup = 0.023\n",
            "{rolls/buns, root vegetables}:  sup = 0.024\n",
            "{whole milk, root vegetables}:  sup = 0.049\n",
            "{yogurt, root vegetables}:  sup = 0.026\n",
            "{waffles}:  sup = 0.038\n",
            "{salty snack}:  sup = 0.038\n",
            "{candy}:  sup = 0.03\n",
            "{canned beer}:  sup = 0.078\n",
            "{sausage}:  sup = 0.094\n",
            "{rolls/buns, sausage}:  sup = 0.031\n",
            "{soda, sausage}:  sup = 0.024\n",
            "{whole milk, sausage}:  sup = 0.03\n",
            "{other vegetables, sausage}:  sup = 0.027\n",
            "{shopping bags}:  sup = 0.099\n",
            "{soda, shopping bags}:  sup = 0.025\n",
            "{whole milk, shopping bags}:  sup = 0.025\n",
            "{other vegetables, shopping bags}:  sup = 0.023\n",
            "{brown bread}:  sup = 0.065\n",
            "{whole milk, brown bread}:  sup = 0.025\n",
            "{beverages}:  sup = 0.026\n",
            "{napkins}:  sup = 0.052\n",
            "{hamburger meat}:  sup = 0.033\n",
            "{hygiene articles}:  sup = 0.033\n",
            "{whipped/sour cream}:  sup = 0.072\n",
            "{whole milk, whipped/sour cream}:  sup = 0.032\n",
            "{other vegetables, whipped/sour cream}:  sup = 0.029\n",
            "{yogurt, whipped/sour cream}:  sup = 0.021\n",
            "{pork}:  sup = 0.058\n",
            "{whole milk, pork}:  sup = 0.022\n",
            "{other vegetables, pork}:  sup = 0.022\n",
            "{berries}:  sup = 0.033\n",
            "{grapes}:  sup = 0.022\n",
            "{dessert}:  sup = 0.037\n",
            "{domestic eggs}:  sup = 0.063\n",
            "{whole milk, domestic eggs}:  sup = 0.03\n",
            "{other vegetables, domestic eggs}:  sup = 0.022\n",
            "{misc. beverages}:  sup = 0.028\n",
            "{hard cheese}:  sup = 0.025\n",
            "{cat food}:  sup = 0.023\n",
            "{ham}:  sup = 0.026\n",
            "{oil}:  sup = 0.028\n",
            "{chewing gum}:  sup = 0.021\n",
            "{ice cream}:  sup = 0.025\n",
            "{frozen vegetables}:  sup = 0.048\n",
            "{whole milk, frozen vegetables}:  sup = 0.02\n",
            "{specialty chocolate}:  sup = 0.03\n",
            "{frozen meals}:  sup = 0.028\n",
            "{onions}:  sup = 0.031\n",
            "{sliced cheese}:  sup = 0.025\n",
            "{meat}:  sup = 0.026\n"
          ]
        }
      ]
    },
    {
      "cell_type": "code",
      "source": [
        "#Generate the association rules from a list of frequent itemsets\n",
        "H = generate_rules(F, support_data, min_confidence=0.3, verbose=True)"
      ],
      "metadata": {
        "colab": {
          "base_uri": "https://localhost:8080/"
        },
        "id": "rST-8SIwSC2q",
        "outputId": "08e56ef9-4f1f-4bd4-cb04-32593cc66852"
      },
      "execution_count": 15,
      "outputs": [
        {
          "output_type": "stream",
          "name": "stdout",
          "text": [
            "{citrus fruit} ---> {whole milk}:  conf = 0.369, sup = 0.031\n",
            "{citrus fruit} ---> {other vegetables}:  conf = 0.349, sup = 0.029\n",
            "{margarine} ---> {whole milk}:  conf = 0.413, sup = 0.024\n",
            "{yogurt} ---> {whole milk}:  conf = 0.402, sup = 0.056\n",
            "{yogurt} ---> {other vegetables}:  conf = 0.311, sup = 0.043\n",
            "{tropical fruit} ---> {other vegetables}:  conf = 0.342, sup = 0.036\n",
            "{tropical fruit} ---> {whole milk}:  conf = 0.403, sup = 0.042\n",
            "{pip fruit} ---> {whole milk}:  conf = 0.398, sup = 0.03\n",
            "{pip fruit} ---> {other vegetables}:  conf = 0.345, sup = 0.026\n",
            "{other vegetables} ---> {whole milk}:  conf = 0.387, sup = 0.075\n",
            "{butter} ---> {whole milk}:  conf = 0.497, sup = 0.028\n",
            "{butter} ---> {other vegetables}:  conf = 0.361, sup = 0.02\n",
            "{rolls/buns} ---> {whole milk}:  conf = 0.308, sup = 0.057\n",
            "{bottled water} ---> {whole milk}:  conf = 0.311, sup = 0.034\n",
            "{curd} ---> {whole milk}:  conf = 0.49, sup = 0.026\n",
            "{beef} ---> {whole milk}:  conf = 0.405, sup = 0.021\n",
            "{frankfurter} ---> {whole milk}:  conf = 0.348, sup = 0.021\n",
            "{newspapers} ---> {whole milk}:  conf = 0.343, sup = 0.027\n",
            "{fruit/vegetable juice} ---> {whole milk}:  conf = 0.368, sup = 0.027\n",
            "{pastry} ---> {whole milk}:  conf = 0.374, sup = 0.033\n",
            "{root vegetables} ---> {other vegetables}:  conf = 0.435, sup = 0.047\n",
            "{root vegetables} ---> {whole milk}:  conf = 0.449, sup = 0.049\n",
            "{sausage} ---> {rolls/buns}:  conf = 0.326, sup = 0.031\n",
            "{sausage} ---> {whole milk}:  conf = 0.318, sup = 0.03\n",
            "{brown bread} ---> {whole milk}:  conf = 0.389, sup = 0.025\n",
            "{whipped/sour cream} ---> {whole milk}:  conf = 0.45, sup = 0.032\n",
            "{whipped/sour cream} ---> {other vegetables}:  conf = 0.403, sup = 0.029\n",
            "{pork} ---> {whole milk}:  conf = 0.384, sup = 0.022\n",
            "{pork} ---> {other vegetables}:  conf = 0.376, sup = 0.022\n",
            "{domestic eggs} ---> {whole milk}:  conf = 0.473, sup = 0.03\n",
            "{domestic eggs} ---> {other vegetables}:  conf = 0.351, sup = 0.022\n",
            "{frozen vegetables} ---> {whole milk}:  conf = 0.425, sup = 0.02\n",
            "{other vegetables, yogurt} ---> {whole milk}:  conf = 0.513, sup = 0.022\n",
            "{whole milk, yogurt} ---> {other vegetables}:  conf = 0.397, sup = 0.022\n",
            "{other vegetables, root vegetables} ---> {whole milk}:  conf = 0.489, sup = 0.023\n",
            "{whole milk, root vegetables} ---> {other vegetables}:  conf = 0.474, sup = 0.023\n",
            "{whole milk, other vegetables} ---> {root vegetables}:  conf = 0.31, sup = 0.023\n"
          ]
        }
      ]
    },
    {
      "cell_type": "code",
      "source": [
        "H_dict = {frozenset().union(*[a,b]) : c for a,b,c in H}"
      ],
      "metadata": {
        "id": "6_zq-kLEeKKY"
      },
      "execution_count": 55,
      "outputs": []
    },
    {
      "cell_type": "code",
      "source": [
        "H_dict"
      ],
      "metadata": {
        "id": "g6YzpntyelEt"
      },
      "execution_count": null,
      "outputs": []
    },
    {
      "cell_type": "code",
      "source": [
        "full_dict = {}\n",
        "\n",
        "for i in range(len(H)):\n",
        "  A = H[i][0]\n",
        "  B = H[i][1]\n",
        "\n",
        "  listoffrozensets = [A,B]\n",
        "\n",
        "  dict_key = frozenset().union(*listoffrozensets)\n",
        "\n",
        "  lift = support_data[dict_key] / (support_data[A] * support_data[B])\n",
        "  support = support_data[dict_key]\n",
        "  confidance = H_dict[dict_key]\n",
        "\n",
        "  full_dict[dict_key] = [support, confidance, lift]\n",
        "\n",
        "\n",
        "  #print(A,B,lift)"
      ],
      "metadata": {
        "id": "7HoeSVQEUxtj"
      },
      "execution_count": 58,
      "outputs": []
    },
    {
      "cell_type": "code",
      "source": [
        "full_dict"
      ],
      "metadata": {
        "id": "wEE-9xd5WQnO"
      },
      "execution_count": null,
      "outputs": []
    },
    {
      "cell_type": "code",
      "source": [
        "#Sort based on support\n",
        "sorted_support = sorted(full_dict.items(), key=lambda x: x[1][0], reverse=True)"
      ],
      "metadata": {
        "id": "Ol359J8te8eT"
      },
      "execution_count": 65,
      "outputs": []
    },
    {
      "cell_type": "code",
      "source": [
        "sorted_support[:5]"
      ],
      "metadata": {
        "colab": {
          "base_uri": "https://localhost:8080/"
        },
        "id": "A0qjDXGkfLbw",
        "outputId": "e4c8bafb-63db-4f42-f518-ebf90a8f5602"
      },
      "execution_count": 66,
      "outputs": [
        {
          "output_type": "execute_result",
          "data": {
            "text/plain": [
              "[(frozenset({'other vegetables', 'whole milk'}),\n",
              "  [0.07483477376715811, 0.38675775091960063, 1.5136340948246207]),\n",
              " (frozenset({'rolls/buns', 'whole milk'}),\n",
              "  [0.05663446873411286, 0.30790491984521834, 1.2050317893663838]),\n",
              " (frozenset({'whole milk', 'yogurt'}),\n",
              "  [0.05602440264361973, 0.40160349854227406, 1.5717351405345263]),\n",
              " (frozenset({'root vegetables', 'whole milk'}),\n",
              "  [0.048906964921199794, 0.44869402985074625, 1.75603095247994]),\n",
              " (frozenset({'other vegetables', 'root vegetables'}),\n",
              "  [0.047381799694966954, 0.43470149253731344, 2.2466049285887952])]"
            ]
          },
          "metadata": {},
          "execution_count": 66
        }
      ]
    },
    {
      "cell_type": "code",
      "source": [
        "sorted_confidance = sorted(full_dict.items(), key=lambda x: x[1][1], reverse=True)"
      ],
      "metadata": {
        "id": "zIty10R7fh_x"
      },
      "execution_count": 67,
      "outputs": []
    },
    {
      "cell_type": "code",
      "source": [
        "sorted_confidance[:5]"
      ],
      "metadata": {
        "colab": {
          "base_uri": "https://localhost:8080/"
        },
        "id": "4fxV5T5Tfn_k",
        "outputId": "76ac5ec6-4db4-4301-964e-f577850f89cd"
      },
      "execution_count": 68,
      "outputs": [
        {
          "output_type": "execute_result",
          "data": {
            "text/plain": [
              "[(frozenset({'butter', 'whole milk'}),\n",
              "  [0.02755465175394001, 0.4972477064220184, 1.9460530014566455]),\n",
              " (frozenset({'curd', 'whole milk'}),\n",
              "  [0.026131164209456024, 0.4904580152671756, 1.9194805332879712]),\n",
              " (frozenset({'domestic eggs', 'whole milk'}),\n",
              "  [0.029994916115912557, 0.47275641025641024, 1.8502026640954214]),\n",
              " (frozenset({'whipped/sour cream', 'whole milk'}),\n",
              "  [0.032231825114387394, 0.449645390070922, 1.7597542424781207]),\n",
              " (frozenset({'root vegetables', 'whole milk'}),\n",
              "  [0.048906964921199794, 0.44869402985074625, 1.75603095247994])]"
            ]
          },
          "metadata": {},
          "execution_count": 68
        }
      ]
    },
    {
      "cell_type": "code",
      "source": [
        "sorted_interest_factor = sorted(full_dict.items(), key=lambda x: x[1][2], reverse=True)"
      ],
      "metadata": {
        "id": "fW3WrZPVfplf"
      },
      "execution_count": 69,
      "outputs": []
    },
    {
      "cell_type": "code",
      "source": [
        "sorted_interest_factor[:5]"
      ],
      "metadata": {
        "colab": {
          "base_uri": "https://localhost:8080/"
        },
        "id": "Dhx9NaaYfwZf",
        "outputId": "33823a62-51aa-4a4e-fc7b-5e2bf76df526"
      },
      "execution_count": 70,
      "outputs": [
        {
          "output_type": "execute_result",
          "data": {
            "text/plain": [
              "[(frozenset({'other vegetables', 'root vegetables', 'whole milk'}),\n",
              "  [0.023182511438739197, 0.30978260869565216, 2.84208204899416]),\n",
              " (frozenset({'other vegetables', 'root vegetables'}),\n",
              "  [0.047381799694966954, 0.43470149253731344, 2.2466049285887952]),\n",
              " (frozenset({'other vegetables', 'whipped/sour cream'}),\n",
              "  [0.02887646161667514, 0.40283687943262414, 2.081923651718265]),\n",
              " (frozenset({'other vegetables', 'whole milk', 'yogurt'}),\n",
              "  [0.02226741230299949, 0.39745916515426494, 2.0541307878571704]),\n",
              " (frozenset({'butter', 'whole milk'}),\n",
              "  [0.02755465175394001, 0.4972477064220184, 1.9460530014566455])]"
            ]
          },
          "metadata": {},
          "execution_count": 70
        }
      ]
    },
    {
      "cell_type": "code",
      "source": [
        "#The root vegetable and whole milk rule is common in the first two orders while is a subset in the third one. \n",
        "#Other vegetables and root vegetables is common in the first and third subset. "
      ],
      "metadata": {
        "id": "g3nosV1-fxvI"
      },
      "execution_count": null,
      "outputs": []
    }
  ]
}